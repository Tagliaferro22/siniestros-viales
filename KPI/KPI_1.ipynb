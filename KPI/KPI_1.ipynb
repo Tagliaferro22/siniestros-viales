{
 "cells": [
  {
   "cell_type": "markdown",
   "metadata": {},
   "source": [
    "En este archivo .ipynb voy a trabajar en la creación y desarrollo del conjunto de datos necesario para crear la pestaña en el dashboard correspondiente a los KPI.\n",
    "Tengo 2 KPI, y en este archivo me voy a centrar en la creación del primero, la consigna del mismo es la siguiente:\n",
    "- Reducir en un 10% la tasa de homicidios en siniestros viales de los últimos seis meses, en CABA, en comparación con la tasa de homicidios en siniestros viales del semestre anterior.\n",
    "Definimos a la tasa de homicidios en siniestros viales como el número de víctimas fatales en accidentes de tránsito por cada 100,000 habitantes en un área geográfica durante un período de tiempo específico. Su fórmula es: (Número de homicidios en siniestros viales / Población total) * 100,000"
   ]
  },
  {
   "cell_type": "code",
   "execution_count": null,
   "metadata": {},
   "outputs": [],
   "source": []
  }
 ],
 "metadata": {
  "language_info": {
   "name": "python"
  }
 },
 "nbformat": 4,
 "nbformat_minor": 2
}
